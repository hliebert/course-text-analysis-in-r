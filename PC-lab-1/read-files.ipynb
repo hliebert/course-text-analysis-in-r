{
 "cells": [
  {
   "cell_type": "markdown",
   "metadata": {},
   "source": [
    "# PC Session 1"
   ]
  },
  {
   "cell_type": "markdown",
   "metadata": {},
   "source": [
    "**Author:**\n",
    "[Helge Liebert](https://hliebert.github.io/)"
   ]
  },
  {
   "cell_type": "markdown",
   "metadata": {},
   "source": [
    "# Reading the pdf files content as data"
   ]
  },
  {
   "cell_type": "markdown",
   "metadata": {},
   "source": [
    "### Libraries"
   ]
  },
  {
   "cell_type": "code",
   "execution_count": null,
   "metadata": {},
   "outputs": [],
   "source": [
    "library(\"stringr\")\n",
    "library(\"readr\")"
   ]
  },
  {
   "cell_type": "markdown",
   "metadata": {},
   "source": [
    "### Extract source files"
   ]
  },
  {
   "cell_type": "markdown",
   "metadata": {},
   "source": [
    "You will need to extract the source files to a folder. Pick the character encoding that fits your operating system."
   ]
  },
  {
   "cell_type": "code",
   "execution_count": null,
   "metadata": {},
   "outputs": [],
   "source": [
    "## use txt-utf-8.zip if you are on MacOS or Linux\n",
    "## unzip(\"txt.zip\")"
   ]
  },
  {
   "cell_type": "code",
   "execution_count": null,
   "metadata": {},
   "outputs": [],
   "source": [
    "## use txt-latin-1.zip if you are on Windows\n",
    "## unzip(\"txt-latin-1.zip\")"
   ]
  },
  {
   "cell_type": "markdown",
   "metadata": {},
   "source": [
    "### Get file names, w/ and w/o paths"
   ]
  },
  {
   "cell_type": "code",
   "execution_count": null,
   "metadata": {},
   "outputs": [],
   "source": [
    "files <- list.files(path = \"txt/\", pattern = \"*.txt\", full.names = TRUE)\n",
    "head(files)"
   ]
  },
  {
   "cell_type": "code",
   "execution_count": null,
   "metadata": {},
   "outputs": [],
   "source": [
    "names <- list.files(path = \"txt/\", pattern = \"*.txt\")\n",
    "head(names)"
   ]
  },
  {
   "cell_type": "markdown",
   "metadata": {},
   "source": [
    "### Read files"
   ]
  },
  {
   "cell_type": "code",
   "execution_count": null,
   "metadata": {},
   "outputs": [],
   "source": [
    "## read only first 5000 bytes, to preserve memory\n",
    "content <- lapply(files, function(f) readChar(f, nchars = 5000))\n",
    "\n",
    "## read all\n",
    "## content <- lapply(files, readr::read_file)\n",
    "## content <- lapply(files, function(f) readChar(f, nchars = file.info(f)$size))\n",
    "                  \n",
    "head(content)"
   ]
  },
  {
   "cell_type": "markdown",
   "metadata": {},
   "source": [
    "### Read as data"
   ]
  },
  {
   "cell_type": "code",
   "execution_count": null,
   "metadata": {},
   "outputs": [],
   "source": [
    "data <- as.data.frame(cbind(names, content))\n",
    "head(data)"
   ]
  },
  {
   "cell_type": "markdown",
   "metadata": {},
   "source": [
    "### Extract more info from file name"
   ]
  },
  {
   "cell_type": "code",
   "execution_count": null,
   "metadata": {},
   "outputs": [],
   "source": [
    "## regex to get author names\n",
    "data$names <- gsub(\"\\\\.txt$\", \"\", data$names)\n",
    "data$author <- gsub(\" - .*$\", \"\", data$names)\n",
    "head(data)"
   ]
  },
  {
   "cell_type": "code",
   "execution_count": null,
   "metadata": {},
   "outputs": [],
   "source": [
    "## cleaner, no false positives (check first obs)\n",
    "data$author <- str_extract(data$names, \"^.*?( - )\")\n",
    "data$author <- gsub(\" - \", \"\", data$author)\n",
    "head(data)"
   ]
  },
  {
   "cell_type": "code",
   "execution_count": null,
   "metadata": {},
   "outputs": [],
   "source": [
    "## same for year\n",
    "data$year <- str_extract(data$names, \" - (20|19)[0-9][0-9] - \")\n",
    "data$year <- gsub(\" - \", \"\", data$year)\n",
    "head(data)"
   ]
  },
  {
   "cell_type": "code",
   "execution_count": null,
   "metadata": {},
   "outputs": [],
   "source": [
    "## same for title\n",
    "#data$title <- str_extract(data$names, \" - .*?$\") ## not good, title may contain hyphen\n",
    "data$title <- str_extract(data$names, \" - (20|19)[0-9][0-9] - .*$\")\n",
    "data$title <- gsub(\"^ - (20|19)[0-9][0-9] - \", \"\", data$title)\n",
    "head(data)"
   ]
  },
  {
   "cell_type": "code",
   "execution_count": null,
   "metadata": {},
   "outputs": [],
   "source": [
    "## trim whitespace everywhere\n",
    "data$author <- trimws(data$author)\n",
    "data$year <- trimws(data$year)\n",
    "data$title <- trimws(data$title)\n",
    "head(data)"
   ]
  },
  {
   "cell_type": "markdown",
   "metadata": {},
   "source": [
    "### Filter/clean content"
   ]
  },
  {
   "cell_type": "code",
   "execution_count": null,
   "metadata": {},
   "outputs": [],
   "source": [
    "## remove supplementary material\n",
    "data <- data[!grepl(\"^Supplemental\", data$content), ]"
   ]
  },
  {
   "cell_type": "code",
   "execution_count": null,
   "metadata": {},
   "outputs": [],
   "source": [
    "## check initial content metadata\n",
    "data$content[5]"
   ]
  },
  {
   "cell_type": "code",
   "execution_count": null,
   "metadata": {
    "scrolled": true
   },
   "outputs": [],
   "source": [
    "## remove JSTOR metadata page\n",
    "data$content <- gsub(\"^.* are collaborating with JSTOR to digitize.*?\\\\.\", \"\", data$content)\n",
    "data$content[5]"
   ]
  },
  {
   "cell_type": "code",
   "execution_count": null,
   "metadata": {},
   "outputs": [],
   "source": [
    "## More\n",
    "## ..."
   ]
  },
  {
   "cell_type": "markdown",
   "metadata": {},
   "source": [
    "# Read single text file and transform it to a data frame"
   ]
  },
  {
   "cell_type": "code",
   "execution_count": null,
   "metadata": {},
   "outputs": [],
   "source": [
    "jobs <- read_file(\"example-unix.txt\")\n",
    "## jobs <- read_file(\"example.txt\")"
   ]
  },
  {
   "cell_type": "code",
   "execution_count": null,
   "metadata": {},
   "outputs": [],
   "source": [
    "## TASK: Create a data frame with ids in one column and job ad text in another\n",
    "## ..."
   ]
  }
 ],
 "metadata": {
  "kernelspec": {
   "display_name": "R",
   "language": "R",
   "name": "ir"
  },
  "language_info": {
   "codemirror_mode": "r",
   "file_extension": ".r",
   "mimetype": "text/x-r-source",
   "name": "R",
   "pygments_lexer": "r",
   "version": "4.1.2"
  }
 },
 "nbformat": 4,
 "nbformat_minor": 4
}
