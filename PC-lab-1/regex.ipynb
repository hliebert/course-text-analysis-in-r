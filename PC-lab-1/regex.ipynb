{
 "cells": [
  {
   "cell_type": "markdown",
   "metadata": {},
   "source": [
    "# PC Session 1"
   ]
  },
  {
   "cell_type": "markdown",
   "metadata": {},
   "source": [
    "**Author:**\n",
    "[Helge Liebert](https://hliebert.github.io/)"
   ]
  },
  {
   "cell_type": "markdown",
   "metadata": {},
   "source": [
    "# Basic R regular expression functions"
   ]
  },
  {
   "cell_type": "code",
   "execution_count": null,
   "metadata": {},
   "outputs": [],
   "source": [
    "## Libraries\n",
    "library(\"gutenbergr\")\n",
    "library(\"stringr\")\n",
    "library(\"data.table\")"
   ]
  },
  {
   "cell_type": "markdown",
   "metadata": {},
   "source": [
    "## Testing, indexing and substitution"
   ]
  },
  {
   "cell_type": "code",
   "execution_count": null,
   "metadata": {},
   "outputs": [],
   "source": [
    "## Vectors of European capitals and countries, positions match\n",
    "capitals <- c(\n",
    "  \"The Hague\",\n",
    "  \"Andorra la Vella\",\n",
    "  \"Athens\",\n",
    "  \"Belgrade\",\n",
    "  \"Berlin\",\n",
    "  \"Bern\",\n",
    "  \"Bratislava\",\n",
    "  \"Brussels\",\n",
    "  \"Bucharest\",\n",
    "  \"Budapest\",\n",
    "  \"Chisinau\",\n",
    "  \"Copenhagen\",\n",
    "  \"Dublin\",\n",
    "  \"Helsinki\",\n",
    "  \"Kiev\",\n",
    "  \"Lisbon\",\n",
    "  \"Ljubljana\",\n",
    "  \"London\",\n",
    "  \"Luxembourg\",\n",
    "  \"Madrid\",\n",
    "  \"Minsk\",\n",
    "  \"Monaco\",\n",
    "  \"Moscow\",\n",
    "  \"Nicosia\",\n",
    "  \"Oslo\",\n",
    "  \"Paris\",\n",
    "  \"Podgorica\",\n",
    "  \"Prague\",\n",
    "  \"Reykjavik\",\n",
    "  \"Riga\",\n",
    "  \"Rome\",\n",
    "  \"San Marino\",\n",
    "  \"Sarajevo\",\n",
    "  \"Skopje\",\n",
    "  \"Sofia\",\n",
    "  \"Stockholm\",\n",
    "  \"Tallinn\",\n",
    "  \"Tirana\",\n",
    "  \"Vaduz\",\n",
    "  \"Valletta\",\n",
    "  \"Vatican City\",\n",
    "  \"Vienna\",\n",
    "  \"Vilnius\",\n",
    "  \"Warsaw\",\n",
    "  \"Zagreb\"\n",
    ")\n",
    "\n",
    "countries <- c(\n",
    "  \"Netherlands\",\n",
    "  \"Andorra\",\n",
    "  \"Greece\",\n",
    "  \"Serbia\",\n",
    "  \"Germany\",\n",
    "  \"Switzerland\",\n",
    "  \"Slovakia\",\n",
    "  \"Belgium\",\n",
    "  \"Romania\",\n",
    "  \"Hungary\",\n",
    "  \"Moldova\",\n",
    "  \"Denmark\",\n",
    "  \"Ireland\",\n",
    "  \"Finland\",\n",
    "  \"Ukraine\",\n",
    "  \"Portugal\",\n",
    "  \"Slovenia\",\n",
    "  \"United Kingdom\",\n",
    "  \"Luxembourg\",\n",
    "  \"Spain\",\n",
    "  \"Belarus\",\n",
    "  \"Monaco\",\n",
    "  \"Russia\",\n",
    "  \"Cyprus\",\n",
    "  \"Norway\",\n",
    "  \"France\",\n",
    "  \"Montenegro\",\n",
    "  \"Czech Republic\",\n",
    "  \"Iceland\",\n",
    "  \"Latvia\",\n",
    "  \"Italy\",\n",
    "  \"San Marino\",\n",
    "  \"Bosnia & Herzegovina\",\n",
    "  \"North Macedonia\",\n",
    "  \"Bulgaria\",\n",
    "  \"Sweden\",\n",
    "  \"Estonia\",\n",
    "  \"Albania\",\n",
    "  \"Liechtenstein\",\n",
    "  \"Malta\",\n",
    "  \"Holy See\",\n",
    "  \"Austria\",\n",
    "  \"Lithuania\",\n",
    "  \"Poland\",\n",
    "  \"Croatia\"\n",
    ")"
   ]
  },
  {
   "cell_type": "code",
   "execution_count": null,
   "metadata": {},
   "outputs": [],
   "source": [
    "capitals[31]\n",
    "countries[31]"
   ]
  },
  {
   "cell_type": "code",
   "execution_count": null,
   "metadata": {},
   "outputs": [],
   "source": [
    "## testing and indexing\n",
    "grep(\"Rome\", capitals)"
   ]
  },
  {
   "cell_type": "code",
   "execution_count": null,
   "metadata": {},
   "outputs": [],
   "source": [
    "## using boolean indexing\n",
    "grepl(\"Rome\", capitals)"
   ]
  },
  {
   "cell_type": "code",
   "execution_count": null,
   "metadata": {},
   "outputs": [],
   "source": [
    "## variations\n",
    "grep(\"^R\", capitals)"
   ]
  },
  {
   "cell_type": "code",
   "execution_count": null,
   "metadata": {},
   "outputs": [],
   "source": [
    "grep(\"^R\", capitals, value = TRUE)"
   ]
  },
  {
   "cell_type": "code",
   "execution_count": null,
   "metadata": {},
   "outputs": [],
   "source": [
    "grep(\"^R.*a$\", capitals, value = TRUE)"
   ]
  },
  {
   "cell_type": "code",
   "execution_count": null,
   "metadata": {},
   "outputs": [],
   "source": [
    "grep(\"^R\", capitals, value = TRUE, invert = TRUE)"
   ]
  },
  {
   "cell_type": "code",
   "execution_count": null,
   "metadata": {},
   "outputs": [],
   "source": [
    "grepl(\"^R\", capitals)\n",
    "!grepl(\"^R\", capitals)"
   ]
  },
  {
   "cell_type": "code",
   "execution_count": null,
   "metadata": {},
   "outputs": [],
   "source": [
    "countries[!grepl(\"^R\", capitals)]"
   ]
  },
  {
   "cell_type": "code",
   "execution_count": null,
   "metadata": {},
   "outputs": [],
   "source": [
    "## data.table %like% operator is just like grepl()\n",
    "capitals %like% \"^R\"\n",
    "!(capitals %like% \"^R\")"
   ]
  },
  {
   "cell_type": "code",
   "execution_count": null,
   "metadata": {},
   "outputs": [],
   "source": [
    "## other binary operators are also helpful\n",
    "capitals == \"Riga\"\n",
    "capitals %in% \"Riga\""
   ]
  },
  {
   "cell_type": "code",
   "execution_count": null,
   "metadata": {},
   "outputs": [],
   "source": [
    "capitals == \"Riga\" | capitals == \"Madrid\"\n",
    "capitals %in% c(\"Riga\", \"Madrid\")"
   ]
  },
  {
   "cell_type": "code",
   "execution_count": null,
   "metadata": {},
   "outputs": [],
   "source": [
    "## substitution\n",
    "gsub(\"some\", \"another \", \"something\")"
   ]
  },
  {
   "cell_type": "code",
   "execution_count": null,
   "metadata": {},
   "outputs": [],
   "source": [
    "## substitution\n",
    "input <- \"something\"\n",
    "input\n",
    "gsub(\"something\", \"something else\", input)"
   ]
  },
  {
   "cell_type": "code",
   "execution_count": null,
   "metadata": {},
   "outputs": [],
   "source": [
    "## functions are vectorized, no need to for looping/functional apply\n",
    "input <- c(\"something\", \"another thing here\", \"something again\")\n",
    "input\n",
    "gsub(\"something\", \"something else\", input)"
   ]
  },
  {
   "cell_type": "code",
   "execution_count": null,
   "metadata": {},
   "outputs": [],
   "source": [
    "## backreferences are possible\n",
    "gsub(\"(something).*(else)\", \"\\\\2\", \"something else\")"
   ]
  },
  {
   "cell_type": "code",
   "execution_count": null,
   "metadata": {},
   "outputs": [],
   "source": [
    "## also other transformations\n",
    "gsub(\"(something).*(else)\", \"\\\\U\\\\2\", \"something else\", perl = TRUE)"
   ]
  },
  {
   "cell_type": "code",
   "execution_count": null,
   "metadata": {},
   "outputs": [],
   "source": [
    "## fixing the capital of the Netherlands\n",
    "gsub(\"The Hague\", \"Amsterdam\", capitals)\n",
    "capitals\n",
    "capitals <- gsub(\"The Hague\", \"Amsterdam\", capitals)\n",
    "capitals"
   ]
  },
  {
   "cell_type": "code",
   "execution_count": null,
   "metadata": {},
   "outputs": [],
   "source": [
    "## the stringr library has more dedicated string functions, though many are\n",
    "## duplicates or can easily be derived from base functions.\n",
    "str_detect(countries, \"tia\")"
   ]
  },
  {
   "cell_type": "code",
   "execution_count": null,
   "metadata": {},
   "outputs": [],
   "source": [
    "## these are the same\n",
    "countries[grepl(\"land\", countries)]\n",
    "countries[str_detect(countries, \"land\")]"
   ]
  },
  {
   "cell_type": "code",
   "execution_count": null,
   "metadata": {},
   "outputs": [],
   "source": [
    "all.equal(countries[grepl(\"land\", countries)], countries[str_detect(countries, \"land\")])"
   ]
  },
  {
   "cell_type": "code",
   "execution_count": null,
   "metadata": {},
   "outputs": [],
   "source": [
    "## counting occurences\n",
    "str_count(countries, \"land\")"
   ]
  },
  {
   "cell_type": "markdown",
   "metadata": {},
   "source": [
    "## Exercises"
   ]
  },
  {
   "cell_type": "markdown",
   "metadata": {},
   "source": [
    "### Extracting information from the country and capital lists"
   ]
  },
  {
   "cell_type": "code",
   "execution_count": null,
   "metadata": {},
   "outputs": [],
   "source": [
    "## TASK: Find all capitals in countries beginning with a vowel and not ending with \"land\".\n",
    "## ..."
   ]
  },
  {
   "cell_type": "markdown",
   "metadata": {},
   "source": [
    "### Extracting information from classic literature"
   ]
  },
  {
   "cell_type": "code",
   "execution_count": null,
   "metadata": {},
   "outputs": [],
   "source": [
    "## Project Gutenberg offers lots of free classic literature\n",
    "gutenberg_works(languages = \"en\")"
   ]
  },
  {
   "cell_type": "markdown",
   "metadata": {},
   "source": [
    "### Robinson Crusoe\n"
   ]
  },
  {
   "cell_type": "code",
   "execution_count": null,
   "metadata": {},
   "outputs": [],
   "source": [
    "## Robinson Crusoe\n",
    "gutenberg_works(author == \"Defoe, Daniel\", title == \"The Life and Adventures of Robinson Crusoe\")"
   ]
  },
  {
   "cell_type": "code",
   "execution_count": null,
   "metadata": {},
   "outputs": [],
   "source": [
    "## Download it\n",
    "robinson <- gutenberg_download(521, mirror = \"http://mirrors.xmission.com/gutenberg/\")"
   ]
  },
  {
   "cell_type": "code",
   "execution_count": null,
   "metadata": {},
   "outputs": [],
   "source": [
    "## Vector, each element is a line from the book\n",
    "robinson <- robinson$text"
   ]
  },
  {
   "cell_type": "code",
   "execution_count": null,
   "metadata": {},
   "outputs": [],
   "source": [
    "sapply(robinson, print)"
   ]
  },
  {
   "cell_type": "code",
   "execution_count": null,
   "metadata": {},
   "outputs": [],
   "source": [
    "## TASK: How many lines in the book mention Friday?\n",
    "## ..."
   ]
  },
  {
   "cell_type": "code",
   "execution_count": null,
   "metadata": {},
   "outputs": [],
   "source": [
    "## TASK: How many lines in the book mention Friday or goats?\n",
    "## ..."
   ]
  },
  {
   "cell_type": "code",
   "execution_count": null,
   "metadata": {},
   "outputs": [],
   "source": [
    "## TASK: On which line does he first mention finding another man's footprint on the beach?\n",
    "##       What does the paragraph say?\n",
    "## ..."
   ]
  },
  {
   "cell_type": "markdown",
   "metadata": {},
   "source": [
    "### Faust\n"
   ]
  },
  {
   "cell_type": "code",
   "execution_count": null,
   "metadata": {},
   "outputs": [],
   "source": [
    "## Faust, English\n",
    "gutenberg_works(author == \"Goethe, Johann Wolfgang von\", title == \"Faust\")\n",
    "faust <- gutenberg_download(3023, mirror = \"http://mirrors.xmission.com/gutenberg/\")\n",
    "faust <- faust$text"
   ]
  },
  {
   "cell_type": "code",
   "execution_count": null,
   "metadata": {},
   "outputs": [],
   "source": [
    "## Faust, German\n",
    "gutenberg_works(author == \"Goethe, Johann Wolfgang von\", title == \"Faust: Der Tragödie erster Teil\", languages = \"de\")\n",
    "faust.de <- gutenberg_download(2229, mirror = \"http://mirrors.xmission.com/gutenberg/\")\n",
    "faust.de <- faust.de$text"
   ]
  },
  {
   "cell_type": "code",
   "execution_count": null,
   "metadata": {},
   "outputs": [],
   "source": [
    "## TASK: Find the paragraph with the famous citation where Mephistopheles introduces himself to Faust in his study.\n",
    "## ..."
   ]
  },
  {
   "cell_type": "code",
   "execution_count": null,
   "metadata": {},
   "outputs": [],
   "source": [
    "## Hint: Places and actors are in full caps.\n",
    "## Hint: Faust asks devil who he is."
   ]
  },
  {
   "cell_type": "code",
   "execution_count": null,
   "metadata": {},
   "outputs": [],
   "source": []
  },
  {
   "cell_type": "code",
   "execution_count": null,
   "metadata": {},
   "outputs": [],
   "source": []
  }
 ],
 "metadata": {
  "kernelspec": {
   "display_name": "R",
   "language": "R",
   "name": "ir"
  },
  "language_info": {
   "codemirror_mode": "r",
   "file_extension": ".r",
   "mimetype": "text/x-r-source",
   "name": "R",
   "pygments_lexer": "r",
   "version": "4.2.1"
  }
 },
 "nbformat": 4,
 "nbformat_minor": 4
}
