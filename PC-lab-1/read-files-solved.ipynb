{
 "cells": [
  {
   "cell_type": "markdown",
   "metadata": {},
   "source": [
    "# PC Session 1"
   ]
  },
  {
   "cell_type": "markdown",
   "metadata": {},
   "source": [
    "**Author:**\n",
    "[Helge Liebert](https://hliebert.github.io/)"
   ]
  },
  {
   "cell_type": "markdown",
   "metadata": {},
   "source": [
    "# Reading the pdf files content as data"
   ]
  },
  {
   "cell_type": "markdown",
   "metadata": {},
   "source": [
    "### Libraries"
   ]
  },
  {
   "cell_type": "code",
   "execution_count": null,
   "metadata": {},
   "outputs": [],
   "source": [
    "library(\"stringr\")\n",
    "library(\"readr\")"
   ]
  },
  {
   "cell_type": "markdown",
   "metadata": {},
   "source": [
    "### Extract source files"
   ]
  },
  {
   "cell_type": "markdown",
   "metadata": {},
   "source": [
    "You will need to extract the source files to a folder. Pick the character encoding that fits your operating system."
   ]
  },
  {
   "cell_type": "code",
   "execution_count": null,
   "metadata": {},
   "outputs": [],
   "source": [
    "## use txt-utf-8.zip if you are on MacOS or Linux\n",
    "## unzip(\"txt-utf-8.zip\")"
   ]
  },
  {
   "cell_type": "code",
   "execution_count": null,
   "metadata": {},
   "outputs": [],
   "source": [
    "## use txt-latin-1.zip if you are on Windows\n",
    "## unzip(\"txt-latin-1.zip\")"
   ]
  },
  {
   "cell_type": "markdown",
   "metadata": {},
   "source": [
    "### Get file names, w/ and w/o paths"
   ]
  },
  {
   "cell_type": "code",
   "execution_count": null,
   "metadata": {},
   "outputs": [],
   "source": [
    "files <- list.files(path = \"txt/\", pattern = \"*.txt\", full.names = TRUE)\n",
    "head(files)"
   ]
  },
  {
   "cell_type": "code",
   "execution_count": null,
   "metadata": {},
   "outputs": [],
   "source": [
    "names <- list.files(path = \"txt/\", pattern = \"*.txt\")\n",
    "head(names)"
   ]
  },
  {
   "cell_type": "markdown",
   "metadata": {},
   "source": [
    "### Read files"
   ]
  },
  {
   "cell_type": "code",
   "execution_count": null,
   "metadata": {},
   "outputs": [],
   "source": [
    "## read only first 5000 bytes, to preserve memory\n",
    "content <- lapply(files, function(f) readChar(f, nchars = 5000))\n",
    "\n",
    "## read all\n",
    "## content <- lapply(files, readr::read_file)\n",
    "## content <- lapply(files, function(f) readChar(f, nchars = file.info(f)$size))\n",
    "                  \n",
    "head(content)"
   ]
  },
  {
   "cell_type": "markdown",
   "metadata": {},
   "source": [
    "### Read as data"
   ]
  },
  {
   "cell_type": "code",
   "execution_count": null,
   "metadata": {},
   "outputs": [],
   "source": [
    "data <- as.data.frame(cbind(names, content))\n",
    "head(data)"
   ]
  },
  {
   "cell_type": "markdown",
   "metadata": {},
   "source": [
    "### Extract more info from file name"
   ]
  },
  {
   "cell_type": "code",
   "execution_count": null,
   "metadata": {},
   "outputs": [],
   "source": [
    "## regex to get author names\n",
    "data$names <- gsub(\"\\\\.txt$\", \"\", data$names)\n",
    "data$author <- gsub(\" - .*$\", \"\", data$names)\n",
    "head(data)"
   ]
  },
  {
   "cell_type": "code",
   "execution_count": null,
   "metadata": {},
   "outputs": [],
   "source": [
    "## cleaner, no false positives (check first obs)\n",
    "data$author <- str_extract(data$names, \"^.*?( - )\")\n",
    "data$author <- gsub(\" - \", \"\", data$author)\n",
    "head(data)"
   ]
  },
  {
   "cell_type": "code",
   "execution_count": null,
   "metadata": {},
   "outputs": [],
   "source": [
    "## same for year\n",
    "data$year <- str_extract(data$names, \" - (20|19)[0-9][0-9] - \")\n",
    "data$year <- gsub(\" - \", \"\", data$year)\n",
    "head(data)"
   ]
  },
  {
   "cell_type": "code",
   "execution_count": null,
   "metadata": {},
   "outputs": [],
   "source": [
    "## same for title\n",
    "#data$title <- str_extract(data$names, \" - .*?$\") ## not good, title may contain hyphen\n",
    "data$title <- str_extract(data$names, \" - (20|19)[0-9][0-9] - .*$\")\n",
    "data$title <- gsub(\"^ - (20|19)[0-9][0-9] - \", \"\", data$title)\n",
    "head(data)"
   ]
  },
  {
   "cell_type": "code",
   "execution_count": null,
   "metadata": {},
   "outputs": [],
   "source": [
    "## trim whitespace everywhere\n",
    "data$author <- trimws(data$author)\n",
    "data$year <- trimws(data$year)\n",
    "data$title <- trimws(data$title)\n",
    "head(data)"
   ]
  },
  {
   "cell_type": "markdown",
   "metadata": {},
   "source": [
    "### Filter/clean content"
   ]
  },
  {
   "cell_type": "code",
   "execution_count": null,
   "metadata": {},
   "outputs": [],
   "source": [
    "## remove supplementary material\n",
    "data <- data[!grepl(\"^Supplemental\", data$content), ]"
   ]
  },
  {
   "cell_type": "code",
   "execution_count": null,
   "metadata": {},
   "outputs": [],
   "source": [
    "## check initial content metadata\n",
    "data$content[5]"
   ]
  },
  {
   "cell_type": "code",
   "execution_count": null,
   "metadata": {
    "scrolled": true
   },
   "outputs": [],
   "source": [
    "## remove JSTOR metadata page\n",
    "data$content <- gsub(\"^.* are collaborating with JSTOR to digitize.*?\\\\.\", \"\", data$content)\n",
    "data$content[5]"
   ]
  },
  {
   "cell_type": "code",
   "execution_count": null,
   "metadata": {},
   "outputs": [],
   "source": [
    "## More\n",
    "## ..."
   ]
  },
  {
   "cell_type": "markdown",
   "metadata": {},
   "source": [
    "# Read single text file and transform it to a data frame"
   ]
  },
  {
   "cell_type": "code",
   "execution_count": null,
   "metadata": {},
   "outputs": [],
   "source": [
    "jobs <- read_file(\"example-unix.txt\")\n",
    "## jobs <- read_file(\"example.txt\")"
   ]
  },
  {
   "cell_type": "code",
   "execution_count": null,
   "metadata": {},
   "outputs": [],
   "source": [
    "## TASK: Create a data frame with ids in one column and job ad text in another\n",
    "## ..."
   ]
  },
  {
   "cell_type": "code",
   "execution_count": null,
   "metadata": {},
   "outputs": [],
   "source": [
    "ids <- str_extract_all(jobs, \"32[0-9]{12}\")\n",
    "ids <- unlist(ids)\n",
    "ids"
   ]
  },
  {
   "cell_type": "code",
   "execution_count": null,
   "metadata": {},
   "outputs": [],
   "source": [
    "posts <- str_split(jobs, \"32[0-9]{12}\")[[1]]\n",
    "posts <- unlist(posts)[-1]\n",
    "posts"
   ]
  },
  {
   "cell_type": "code",
   "execution_count": null,
   "metadata": {},
   "outputs": [],
   "source": [
    "posts <- trimws(posts)\n",
    "posts"
   ]
  },
  {
   "cell_type": "code",
   "execution_count": null,
   "metadata": {},
   "outputs": [],
   "source": [
    "jobs.df <- data.frame(ids, posts)\n",
    "jobs.df"
   ]
  },
  {
   "cell_type": "markdown",
   "metadata": {},
   "source": [
    "# Convert single text file to csv using sed, then read it "
   ]
  },
  {
   "cell_type": "markdown",
   "metadata": {},
   "source": [
    "### Transformation\n",
    "\n",
    "The above will read the complete text file into memory, which may be infeasible (or very slow). Other command line tools like `sed` can do text manipulations much faster. I included this for you to explore and for self study."
   ]
  },
  {
   "cell_type": "markdown",
   "metadata": {},
   "source": [
    "I recommend doing this directly in a shell (e.g., `bash` or `zsh`), not in R. Escaping is tedious in R. Note that in the notebook the output of `system()` calls is not visible. You can check it in Rstudio, or better yet, directly from a shell instead of calling `system()` in R."
   ]
  },
  {
   "cell_type": "code",
   "execution_count": null,
   "metadata": {},
   "outputs": [],
   "source": [
    "## advanced, for self study. this works on very large files.\n",
    "## crude way of creating a readable file quickly using shell programs.\n",
    "## uses sed to insert a ';' separator and line break based on a regex pattern,\n",
    "## such that ID and Text field can be read as a csv. you could also do this from\n",
    "## the command line.  note: this requires sed to be installed on your system.\n",
    "## also, R requires double backslash escaping, and escaping nested quotations --\n",
    "## overall easier to do this directly in a shell.\n",
    "\n",
    "## These three lines are all you need to execute.\n",
    "## sed -e 's/^32[0-9]\\{12\\}$/\"\\n\\0;\"/' example-unix.txt > example.csv\n",
    "## sed -i '1d' example.csv\n",
    "## sed -i '$a\"' example.csv"
   ]
  },
  {
   "cell_type": "code",
   "execution_count": null,
   "metadata": {},
   "outputs": [],
   "source": [
    "## check structure\n",
    "system(\"head example-unix.txt -n 100\", intern = TRUE)"
   ]
  },
  {
   "cell_type": "code",
   "execution_count": null,
   "metadata": {},
   "outputs": [],
   "source": [
    "## match id, then replace with separator (;), linebreak (\\n), matched id (\\0), separator (;)\n",
    "system(\"sed -e 's/^32[0-9]\\\\{12\\\\}$/\\\"\\\\n\\\\0;\\\"/' example-unix.txt\", intern = TRUE)"
   ]
  },
  {
   "cell_type": "code",
   "execution_count": null,
   "metadata": {},
   "outputs": [],
   "source": [
    "## match id, then replace with separator, linebreak, matched id (\\0), separator (;), then direct output to file\n",
    "system(\"sed -e 's/^32[0-9]\\\\{12\\\\}$/\\\"\\\\n\\\\0;\\\"/' example-unix.txt > example.csv\", intern = TRUE)"
   ]
  },
  {
   "cell_type": "code",
   "execution_count": null,
   "metadata": {},
   "outputs": [],
   "source": [
    "# check and fix first/last row (could also do this in an editor)\n",
    "system(\"head example.csv\", intern = TRUE)\n",
    "system(\"tail example.csv\", intern = TRUE)"
   ]
  },
  {
   "cell_type": "code",
   "execution_count": null,
   "metadata": {},
   "outputs": [],
   "source": [
    "## -i operates on the file directly, 1d deletes the first line\n",
    "system(\"sed -i '1d' example.csv\")\n",
    "# last row, $ selects last row, a appends the following characters\n",
    "system(\"sed -i '$a\\\"' example.csv\")"
   ]
  },
  {
   "cell_type": "code",
   "execution_count": null,
   "metadata": {},
   "outputs": [],
   "source": [
    "# check\n",
    "system(\"head example.csv\", intern = TRUE)\n",
    "system(\"tail example.csv\", intern = TRUE)"
   ]
  },
  {
   "cell_type": "markdown",
   "metadata": {},
   "source": [
    "### Read file"
   ]
  },
  {
   "cell_type": "code",
   "execution_count": null,
   "metadata": {},
   "outputs": [],
   "source": [
    "example <- read.table(\"example.csv\", sep = \";\") \n",
    "options(scipen = 9999)\n",
    "stopifnot(ncol(example)==2)\n",
    "\n",
    "names(example) <- c(\"id\", \"ad\")\n",
    "example$ad <- trimws(example$ad)\n",
    "head(example)"
   ]
  },
  {
   "cell_type": "markdown",
   "metadata": {},
   "source": [
    "### Fix character encoding"
   ]
  },
  {
   "cell_type": "code",
   "execution_count": null,
   "metadata": {},
   "outputs": [],
   "source": [
    "Encoding(example$ad) <- \"UTF-8\" \n",
    "head(example)"
   ]
  }
 ],
 "metadata": {
  "kernelspec": {
   "display_name": "R",
   "language": "R",
   "name": "ir"
  },
  "language_info": {
   "codemirror_mode": "r",
   "file_extension": ".r",
   "mimetype": "text/x-r-source",
   "name": "R",
   "pygments_lexer": "r",
   "version": "4.1.2"
  }
 },
 "nbformat": 4,
 "nbformat_minor": 4
}
