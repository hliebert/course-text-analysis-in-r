{
 "cells": [
  {
   "cell_type": "markdown",
   "metadata": {},
   "source": [
    "# Basic R regular expression functions"
   ]
  },
  {
   "cell_type": "code",
   "execution_count": null,
   "metadata": {},
   "outputs": [],
   "source": [
    "## Libraries\n",
    "library(\"gutenbergr\")\n",
    "library(\"stringr\")\n",
    "library(\"data.table\")"
   ]
  },
  {
   "cell_type": "markdown",
   "metadata": {},
   "source": [
    "## Testing, indexing and substitution"
   ]
  },
  {
   "cell_type": "code",
   "execution_count": null,
   "metadata": {},
   "outputs": [],
   "source": [
    "## Vectors of European capitals and countries, positions match\n",
    "capitals <- c(\n",
    "  \"The Hague\",\n",
    "  \"Andorra la Vella\",\n",
    "  \"Athens\",\n",
    "  \"Belgrade\",\n",
    "  \"Berlin\",\n",
    "  \"Bern\",\n",
    "  \"Bratislava\",\n",
    "  \"Brussels\",\n",
    "  \"Bucharest\",\n",
    "  \"Budapest\",\n",
    "  \"Chisinau\",\n",
    "  \"Copenhagen\",\n",
    "  \"Dublin\",\n",
    "  \"Helsinki\",\n",
    "  \"Kiev\",\n",
    "  \"Lisbon\",\n",
    "  \"Ljubljana\",\n",
    "  \"London\",\n",
    "  \"Luxembourg\",\n",
    "  \"Madrid\",\n",
    "  \"Minsk\",\n",
    "  \"Monaco\",\n",
    "  \"Moscow\",\n",
    "  \"Nicosia\",\n",
    "  \"Oslo\",\n",
    "  \"Paris\",\n",
    "  \"Podgorica\",\n",
    "  \"Prague\",\n",
    "  \"Reykjavik\",\n",
    "  \"Riga\",\n",
    "  \"Rome\",\n",
    "  \"San Marino\",\n",
    "  \"Sarajevo\",\n",
    "  \"Skopje\",\n",
    "  \"Sofia\",\n",
    "  \"Stockholm\",\n",
    "  \"Tallinn\",\n",
    "  \"Tirana\",\n",
    "  \"Vaduz\",\n",
    "  \"Valletta\",\n",
    "  \"Vatican City\",\n",
    "  \"Vienna\",\n",
    "  \"Vilnius\",\n",
    "  \"Warsaw\",\n",
    "  \"Zagreb\"\n",
    ")\n",
    "\n",
    "countries <- c(\n",
    "  \"Netherlands\",\n",
    "  \"Andorra\",\n",
    "  \"Greece\",\n",
    "  \"Serbia\",\n",
    "  \"Germany\",\n",
    "  \"Switzerland\",\n",
    "  \"Slovakia\",\n",
    "  \"Belgium\",\n",
    "  \"Romania\",\n",
    "  \"Hungary\",\n",
    "  \"Moldova\",\n",
    "  \"Denmark\",\n",
    "  \"Ireland\",\n",
    "  \"Finland\",\n",
    "  \"Ukraine\",\n",
    "  \"Portugal\",\n",
    "  \"Slovenia\",\n",
    "  \"United Kingdom\",\n",
    "  \"Luxembourg\",\n",
    "  \"Spain\",\n",
    "  \"Belarus\",\n",
    "  \"Monaco\",\n",
    "  \"Russia\",\n",
    "  \"Cyprus\",\n",
    "  \"Norway\",\n",
    "  \"France\",\n",
    "  \"Montenegro\",\n",
    "  \"Czech Republic\",\n",
    "  \"Iceland\",\n",
    "  \"Latvia\",\n",
    "  \"Italy\",\n",
    "  \"San Marino\",\n",
    "  \"Bosnia & Herzegovina\",\n",
    "  \"North Macedonia\",\n",
    "  \"Bulgaria\",\n",
    "  \"Sweden\",\n",
    "  \"Estonia\",\n",
    "  \"Albania\",\n",
    "  \"Liechtenstein\",\n",
    "  \"Malta\",\n",
    "  \"Holy See\",\n",
    "  \"Austria\",\n",
    "  \"Lithuania\",\n",
    "  \"Poland\",\n",
    "  \"Croatia\"\n",
    ")"
   ]
  },
  {
   "cell_type": "code",
   "execution_count": null,
   "metadata": {},
   "outputs": [],
   "source": [
    "## testing and indexing\n",
    "grep(\"Rome\", capitals)"
   ]
  },
  {
   "cell_type": "code",
   "execution_count": null,
   "metadata": {},
   "outputs": [],
   "source": [
    "## using boolean indexing\n",
    "grepl(\"Rome\", capitals)"
   ]
  },
  {
   "cell_type": "code",
   "execution_count": null,
   "metadata": {},
   "outputs": [],
   "source": [
    "## variations\n",
    "grep(\"^R\", capitals)"
   ]
  },
  {
   "cell_type": "code",
   "execution_count": null,
   "metadata": {},
   "outputs": [],
   "source": [
    "grep(\"^R\", capitals, value = TRUE)"
   ]
  },
  {
   "cell_type": "code",
   "execution_count": null,
   "metadata": {},
   "outputs": [],
   "source": [
    "grep(\"^R.*a$\", capitals, value = TRUE)"
   ]
  },
  {
   "cell_type": "code",
   "execution_count": null,
   "metadata": {},
   "outputs": [],
   "source": [
    "grep(\"^R\", capitals, value = TRUE, invert = TRUE)"
   ]
  },
  {
   "cell_type": "code",
   "execution_count": null,
   "metadata": {},
   "outputs": [],
   "source": [
    "grepl(\"^R\", capitals)\n",
    "!grepl(\"^R\", capitals)"
   ]
  },
  {
   "cell_type": "code",
   "execution_count": null,
   "metadata": {},
   "outputs": [],
   "source": [
    "countries[!grepl(\"^R\", capitals)]"
   ]
  },
  {
   "cell_type": "code",
   "execution_count": null,
   "metadata": {},
   "outputs": [],
   "source": [
    "## data.table %like% operator is just like grepl()\n",
    "capitals %like% \"^R\"\n",
    "!(capitals %like% \"^R\")"
   ]
  },
  {
   "cell_type": "code",
   "execution_count": null,
   "metadata": {},
   "outputs": [],
   "source": [
    "## other binary operators are also helpful\n",
    "capitals == \"Riga\"\n",
    "capitals %in% \"Riga\""
   ]
  },
  {
   "cell_type": "code",
   "execution_count": null,
   "metadata": {},
   "outputs": [],
   "source": [
    "capitals == \"Riga\" | capitals == \"Madrid\"\n",
    "capitals %in% c(\"Riga\", \"Madrid\")"
   ]
  },
  {
   "cell_type": "code",
   "execution_count": null,
   "metadata": {},
   "outputs": [],
   "source": [
    "## substitution\n",
    "gsub(\"some\", \"another \", \"something\")"
   ]
  },
  {
   "cell_type": "code",
   "execution_count": null,
   "metadata": {},
   "outputs": [],
   "source": [
    "## substitution\n",
    "input <- \"something\"\n",
    "input\n",
    "gsub(\"something\", \"something else\", input)"
   ]
  },
  {
   "cell_type": "code",
   "execution_count": null,
   "metadata": {},
   "outputs": [],
   "source": [
    "## functions are vectorized, no need to for looping/functional apply\n",
    "input <- c(\"something\", \"another thing here\", \"something again\")\n",
    "input\n",
    "gsub(\"something\", \"something else\", input)"
   ]
  },
  {
   "cell_type": "code",
   "execution_count": null,
   "metadata": {},
   "outputs": [],
   "source": [
    "## backreferences are possible\n",
    "gsub(\"(something).*(else)\", \"\\\\2\", input, perl = TRUE)"
   ]
  },
  {
   "cell_type": "code",
   "execution_count": null,
   "metadata": {},
   "outputs": [],
   "source": [
    "## also other transformations\n",
    "gsub(\"(something).*(else)\", \"\\\\U\\\\2\", input, perl = TRUE)"
   ]
  },
  {
   "cell_type": "code",
   "execution_count": null,
   "metadata": {},
   "outputs": [],
   "source": [
    "## fixing the capital of the Netherlands\n",
    "gsub(\"The Hague\", \"Amsterdam\", capitals)"
   ]
  },
  {
   "cell_type": "code",
   "execution_count": null,
   "metadata": {},
   "outputs": [],
   "source": [
    "## the stringr library has more dedicated string functions, though many are\n",
    "## duplicates or can easily be derived from base functions.\n",
    "str_detect(countries, \"tia\")"
   ]
  },
  {
   "cell_type": "code",
   "execution_count": null,
   "metadata": {},
   "outputs": [],
   "source": [
    "## these are the same\n",
    "countries[grepl(\"land\", countries)]\n",
    "countries[str_detect(countries, \"land\")]"
   ]
  },
  {
   "cell_type": "code",
   "execution_count": null,
   "metadata": {},
   "outputs": [],
   "source": [
    "all.equal(countries[grepl(\"land\", countries)], countries[str_detect(countries, \"land\")])"
   ]
  },
  {
   "cell_type": "code",
   "execution_count": null,
   "metadata": {},
   "outputs": [],
   "source": [
    "## counting occurences\n",
    "str_count(countries, \"land\")"
   ]
  },
  {
   "cell_type": "markdown",
   "metadata": {},
   "source": [
    "## Exercises"
   ]
  },
  {
   "cell_type": "markdown",
   "metadata": {},
   "source": [
    "### Extracting information from the country and capital lists"
   ]
  },
  {
   "cell_type": "code",
   "execution_count": null,
   "metadata": {},
   "outputs": [],
   "source": [
    "## TASK: Find all capitals in countries beginning with a vowel and not ending with \"land\".\n",
    "capitals[grepl(\"^[AEIOU].*\", countries) & !grepl(\"land$\", countries)]\n",
    "capitals[grepl(\"(?!.*land)^[AEIOU]\", countries, perl = TRUE)]"
   ]
  },
  {
   "cell_type": "code",
   "execution_count": null,
   "metadata": {},
   "outputs": [],
   "source": [
    "## TASK: Find all countries that contain exactly two words in the title and swap them.\n",
    "grep(\"([A-Z][a-z]+) ([A-Z][a-z]+)\", countries, value = TRUE)\n",
    "gsub(\"([A-Z][a-z]+) ([A-Z][a-z]+)\", \"\\\\2 \\\\1\", countries)"
   ]
  },
  {
   "cell_type": "code",
   "execution_count": null,
   "metadata": {},
   "outputs": [],
   "source": [
    "## accounting for Bosnia and Herzegovina\n",
    "grep(\"([A-Z][a-z]+)( (& )*)([A-Z][a-z]+)\", countries, value = TRUE)\n",
    "gsub(\"([A-Z][a-z]+)( | & )([A-Z][a-z]+)\", \"\\\\3\\\\2\\\\1\", countries)"
   ]
  },
  {
   "cell_type": "markdown",
   "metadata": {},
   "source": [
    "### Extracting information from classic literature"
   ]
  },
  {
   "cell_type": "code",
   "execution_count": null,
   "metadata": {},
   "outputs": [],
   "source": [
    "## Project Gutenberg offers lots of free classic literature\n",
    "gutenberg_works(languages = \"en\")"
   ]
  },
  {
   "cell_type": "code",
   "execution_count": null,
   "metadata": {},
   "outputs": [],
   "source": [
    "gutenberg_works(author == \"London, Jack\", title == \"Call of the Wild\")\n",
    "## gutenberg_works(author == \"Twain, Mark\", title == \"Adventures of Huckleberry Finn\")\n",
    "## gutenberg_works(author == \"Goethe, Johann Wolfgang von\", title == \"Faust\")\n",
    "## gutenberg_works(author == \"Dostoyevsky, Fyodor\", title == \"Crime and Punishment\")\n",
    "## gutenberg_works(author == \"Conrad, Joseph\", title == \"Heart of Darkness\")\n",
    "## gutenberg_works(author == \"Defoe, Daniel\", title == \"The Life and Adventures of Robinson Crusoe\")"
   ]
  },
  {
   "cell_type": "markdown",
   "metadata": {},
   "source": [
    "### Robinson Crusoe\n"
   ]
  },
  {
   "cell_type": "code",
   "execution_count": null,
   "metadata": {},
   "outputs": [],
   "source": [
    "## Robinson Crusoe\n",
    "gutenberg_works(author == \"Defoe, Daniel\", title == \"The Life and Adventures of Robinson Crusoe\")"
   ]
  },
  {
   "cell_type": "code",
   "execution_count": null,
   "metadata": {},
   "outputs": [],
   "source": [
    "## Download it\n",
    "robinson <- gutenberg_download(521, mirror = \"http://mirrors.xmission.com/gutenberg/\")"
   ]
  },
  {
   "cell_type": "code",
   "execution_count": null,
   "metadata": {},
   "outputs": [],
   "source": [
    "## Vector, each element is a line from the book\n",
    "robinson <- robinson$text"
   ]
  },
  {
   "cell_type": "code",
   "execution_count": null,
   "metadata": {},
   "outputs": [],
   "source": [
    "sapply(robinson, print)"
   ]
  },
  {
   "cell_type": "code",
   "execution_count": null,
   "metadata": {},
   "outputs": [],
   "source": [
    "## TASK: How many lines in the book mention Friday?\n",
    "## ..."
   ]
  },
  {
   "cell_type": "code",
   "execution_count": null,
   "metadata": {},
   "outputs": [],
   "source": [
    "sum(grepl(\"Friday\", robinson))"
   ]
  },
  {
   "cell_type": "code",
   "execution_count": null,
   "metadata": {},
   "outputs": [],
   "source": [
    "## TASK: How many lines in the book mention Friday or goats?\n",
    "## ..."
   ]
  },
  {
   "cell_type": "code",
   "execution_count": null,
   "metadata": {},
   "outputs": [],
   "source": [
    "sum(grepl(\"Friday|goat|goats\", robinson))"
   ]
  },
  {
   "cell_type": "code",
   "execution_count": null,
   "metadata": {},
   "outputs": [],
   "source": [
    "## TASK: On which line does he first mention finding another man's footprint on the beach?\n",
    "##       What does the paragraph say?\n",
    "## ..."
   ]
  },
  {
   "cell_type": "code",
   "execution_count": null,
   "metadata": {},
   "outputs": [],
   "source": [
    "grep(\"foot\", robinson)"
   ]
  },
  {
   "cell_type": "code",
   "execution_count": null,
   "metadata": {},
   "outputs": [],
   "source": [
    "grep(\"print\", robinson)"
   ]
  },
  {
   "cell_type": "code",
   "execution_count": null,
   "metadata": {},
   "outputs": [],
   "source": [
    "# lines which mention foot and print\n",
    "grepl(\"foot\", robinson) & grepl(\"print\", robinson)"
   ]
  },
  {
   "cell_type": "code",
   "execution_count": null,
   "metadata": {},
   "outputs": [],
   "source": [
    "robinson[grepl(\"foot\", robinson) & grepl(\"print\", robinson)]"
   ]
  },
  {
   "cell_type": "code",
   "execution_count": null,
   "metadata": {},
   "outputs": [],
   "source": [
    "## Alternative way of doing this?\n",
    "grep(\"foot.*print\", robinson)"
   ]
  },
  {
   "cell_type": "code",
   "execution_count": null,
   "metadata": {},
   "outputs": [],
   "source": [
    "## but also\n",
    "grep(\"print.*foot\", robinson)"
   ]
  },
  {
   "cell_type": "code",
   "execution_count": null,
   "metadata": {},
   "outputs": [],
   "source": [
    "## groups and logical OR\n",
    "grep(\"(print.*foot)|(foot.*print)\", robinson)"
   ]
  },
  {
   "cell_type": "code",
   "execution_count": null,
   "metadata": {},
   "outputs": [],
   "source": [
    "robinson[grep(\"(print.*foot)|(foot.*print)\", robinson)]"
   ]
  },
  {
   "cell_type": "code",
   "execution_count": null,
   "metadata": {},
   "outputs": [],
   "source": [
    "## Positive lookahead assertion, non-consuming\n",
    "grep(\"(?=.*print)(?=.*foot)\", robinson, perl = TRUE)"
   ]
  },
  {
   "cell_type": "code",
   "execution_count": null,
   "metadata": {},
   "outputs": [],
   "source": [
    "# these are all the same\n",
    "grep(\"(print.*foot)|(foot.*print)\", robinson, perl = TRUE)\n",
    "grep(\"(?=.*print)(?=.*foot)\", robinson, perl = TRUE)\n",
    "union(grep(\".*print.*foot\", robinson), grep(\".*foot.*print\", robinson))\n",
    "\n",
    "## or just use logicals here, often more readable\n",
    "## grepl(\"print.*foot\", robinson) | grepl(\"foot.*print\", robinson)"
   ]
  },
  {
   "cell_type": "code",
   "execution_count": null,
   "metadata": {},
   "outputs": [],
   "source": [
    "robinson[grep(\"(?=.*print)(?=.*foot)\", robinson, perl = TRUE)]"
   ]
  },
  {
   "cell_type": "code",
   "execution_count": null,
   "metadata": {},
   "outputs": [],
   "source": [
    "robinson[grep(\"man.s.*foot\", robinson)]"
   ]
  },
  {
   "cell_type": "code",
   "execution_count": null,
   "metadata": {},
   "outputs": [],
   "source": [
    "robinson[grep(\"man\\\\Ss.*foot\", robinson)]"
   ]
  },
  {
   "cell_type": "code",
   "execution_count": null,
   "metadata": {},
   "outputs": [],
   "source": [
    "line <- grep(\"print of a man.s naked foot\", robinson)\n",
    "line"
   ]
  },
  {
   "cell_type": "code",
   "execution_count": null,
   "metadata": {},
   "outputs": [],
   "source": [
    "print(robinson[(line - 1):(line + 19)])"
   ]
  },
  {
   "cell_type": "markdown",
   "metadata": {},
   "source": [
    "### Faust\n"
   ]
  },
  {
   "cell_type": "code",
   "execution_count": null,
   "metadata": {},
   "outputs": [],
   "source": [
    "## Faust, English\n",
    "gutenberg_works(author == \"Goethe, Johann Wolfgang von\", title == \"Faust\")\n",
    "faust <- gutenberg_download(3023, mirror = \"http://mirrors.xmission.com/gutenberg/\")\n",
    "faust <- faust$text"
   ]
  },
  {
   "cell_type": "code",
   "execution_count": null,
   "metadata": {},
   "outputs": [],
   "source": [
    "## Faust, German\n",
    "gutenberg_works(author == \"Goethe, Johann Wolfgang von\", title == \"Faust: Der Tragödie erster Teil\", languages = \"de\")\n",
    "faust_de <- gutenberg_download(2229, mirror = \"http://mirrors.xmission.com/gutenberg/\")\n",
    "faust_de <- faust_de$text"
   ]
  },
  {
   "cell_type": "code",
   "execution_count": null,
   "metadata": {},
   "outputs": [],
   "source": [
    "## TASK: Find the paragraph with the famous citation where Mephistopheles introduces himself to Faust in his study.\n",
    "## ..."
   ]
  },
  {
   "cell_type": "code",
   "execution_count": null,
   "metadata": {},
   "outputs": [],
   "source": [
    "## Hint: Places and actors are in full caps.\n",
    "## Hint: Faust asks devil who he is."
   ]
  },
  {
   "cell_type": "code",
   "execution_count": null,
   "metadata": {},
   "outputs": [],
   "source": [
    "## Hint: Devil speaks in riddles."
   ]
  },
  {
   "cell_type": "code",
   "execution_count": null,
   "metadata": {},
   "outputs": [],
   "source": [
    "## Hint: \"part of power\", \"spirit which denies\"\n",
    "## Hint: \"gutes will und böses schafft\", \"geist der verneint\""
   ]
  },
  {
   "cell_type": "code",
   "execution_count": null,
   "metadata": {},
   "outputs": [],
   "source": [
    "faust[grep(\"will.*evil\", faust, ignore.case = TRUE)]"
   ]
  },
  {
   "cell_type": "code",
   "execution_count": null,
   "metadata": {},
   "outputs": [],
   "source": [
    "faust[grep(\"work.*good\", faust, ignore.case = TRUE)]"
   ]
  },
  {
   "cell_type": "code",
   "execution_count": null,
   "metadata": {},
   "outputs": [],
   "source": [
    "print(faust[1000:1200])"
   ]
  },
  {
   "cell_type": "code",
   "execution_count": null,
   "metadata": {},
   "outputs": [],
   "source": [
    "## none of these are informative\n",
    "## faust[grep(\"will\", faust, ignore.case = TRUE)]\n",
    "## faust[grep(\"good\", faust, ignore.case = TRUE)]\n",
    "## faust[grep(\"eternal\", faust, ignore.case = TRUE)]\n",
    "## faust[grep(\"power\", faust, ignore.case = TRUE)]"
   ]
  },
  {
   "cell_type": "code",
   "execution_count": null,
   "metadata": {},
   "outputs": [],
   "source": [
    "faust[grep(\"who.*you\", faust, ignore.case = TRUE)]"
   ]
  },
  {
   "cell_type": "code",
   "execution_count": null,
   "metadata": {},
   "outputs": [],
   "source": [
    "## if you remember parts of the citation correctly, this is it\n",
    "faust[grep(\"who.*thou\", faust, ignore.case = TRUE)]"
   ]
  },
  {
   "cell_type": "code",
   "execution_count": null,
   "metadata": {},
   "outputs": [],
   "source": [
    "## if you remember parts of the citation correctly, this is it\n",
    "faust[grep(\"spirit.*denies\", faust, ignore.case = TRUE)]"
   ]
  },
  {
   "cell_type": "code",
   "execution_count": null,
   "metadata": {},
   "outputs": [],
   "source": [
    "## Alternatively, identify the chapter in the study and the speakers (Faust and Mephistopheles)\n",
    "grep(\"MEPHISTOPHELES\", faust)"
   ]
  },
  {
   "cell_type": "code",
   "execution_count": null,
   "metadata": {},
   "outputs": [],
   "source": [
    "grep(\"STUDY\", faust)"
   ]
  },
  {
   "cell_type": "code",
   "execution_count": null,
   "metadata": {},
   "outputs": [],
   "source": [
    "begin_chapter <- grep(\"STUDY\", faust)[1]\n",
    "devil_speaks <- grep(\"MEPHISTOPHELES\", faust)\n",
    "faust_speaks <- grep(\"FAUST\", faust)\n",
    "other_speaks <- grep(\"[A-Z][A-Z]+\", faust)"
   ]
  },
  {
   "cell_type": "code",
   "execution_count": null,
   "metadata": {},
   "outputs": [],
   "source": [
    "devil_speaks_instudy <- devil_speaks[devil_speaks > begin_chapter]\n",
    "faust_speaks_instudy <- faust_speaks[faust_speaks > begin_chapter]\n",
    "\n",
    "devil_speaks_instudy <- devil_speaks_instudy[devil_speaks_instudy > min(faust_speaks_instudy)]\n",
    "faust_speaks_instudy <- faust_speaks_instudy[faust_speaks_instudy > min(devil_speaks_instudy)]\n",
    "\n",
    "devil_speaks_instudy <- devil_speaks_instudy[1:10]\n",
    "faust_speaks_instudy <- faust_speaks_instudy[1:10]"
   ]
  },
  {
   "cell_type": "code",
   "execution_count": null,
   "metadata": {},
   "outputs": [],
   "source": [
    "devil_speaks_instudy\n",
    "faust_speaks_instudy"
   ]
  },
  {
   "cell_type": "code",
   "execution_count": null,
   "metadata": {},
   "outputs": [],
   "source": [
    "devil.talks <- unlist(Map(`:`, devil_speaks_instudy, faust_speaks_instudy - 1))"
   ]
  },
  {
   "cell_type": "code",
   "execution_count": null,
   "metadata": {},
   "outputs": [],
   "source": [
    "print(faust[devil.talks])"
   ]
  },
  {
   "cell_type": "code",
   "execution_count": null,
   "metadata": {},
   "outputs": [],
   "source": [
    "cat(faust[1996:2021],  sep = \"\\n\")"
   ]
  },
  {
   "cell_type": "code",
   "execution_count": null,
   "metadata": {},
   "outputs": [],
   "source": [
    "## German (much easier if you remember the citation)\n",
    "grep(\"geist.*verneint\", faust_de, value = TRUE, ignore.case = TRUE)"
   ]
  },
  {
   "cell_type": "code",
   "execution_count": null,
   "metadata": {},
   "outputs": [],
   "source": [
    "line <- grep(\"geist.*verneint\", faust_de, ignore.case = TRUE)\n",
    "print(faust_de[(line - 10):(line + 7)])"
   ]
  },
  {
   "cell_type": "code",
   "execution_count": null,
   "metadata": {},
   "outputs": [],
   "source": []
  }
 ],
 "metadata": {
  "kernelspec": {
   "display_name": "R",
   "language": "R",
   "name": "ir"
  },
  "language_info": {
   "codemirror_mode": "r",
   "file_extension": ".r",
   "mimetype": "text/x-r-source",
   "name": "R",
   "pygments_lexer": "r",
   "version": "4.2.1"
  }
 },
 "nbformat": 4,
 "nbformat_minor": 4
}
